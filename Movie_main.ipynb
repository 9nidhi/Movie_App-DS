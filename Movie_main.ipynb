{
 "cells": [
  {
   "cell_type": "code",
   "execution_count": 1,
   "metadata": {},
   "outputs": [],
   "source": [
    "import pandas as pd\n",
    "import numpy as np\n",
    "import ast\n",
    "from nltk.stem import PorterStemmer\n",
    "from sklearn.feature_extraction.text import CountVectorizer\n",
    "from sklearn.metrics.pairwise import cosine_similarity\n",
    "import pickle\n",
    "import gzip"
   ]
  },
  {
   "cell_type": "code",
   "execution_count": 2,
   "metadata": {},
   "outputs": [],
   "source": [
    "# Load datasets\n",
    "movies = pd.read_csv('tmdb_5000_movies.csv')\n",
    "credits = pd.read_csv('tmdb_5000_credits.csv')"
   ]
  },
  {
   "cell_type": "code",
   "execution_count": 3,
   "metadata": {},
   "outputs": [],
   "source": [
    "\n",
    "# Merge datasets on 'title' column\n",
    "movies = movies.merge(credits, on='title')"
   ]
  },
  {
   "cell_type": "code",
   "execution_count": 4,
   "metadata": {},
   "outputs": [],
   "source": [
    "# Keep only the relevant columns\n",
    "movies = movies[['movie_id', 'title', 'overview', 'genres', 'keywords', 'cast', 'crew']]"
   ]
  },
  {
   "cell_type": "code",
   "execution_count": 5,
   "metadata": {},
   "outputs": [],
   "source": [
    "# Keep only the relevant columns\n",
    "movies = movies[['movie_id', 'title', 'overview', 'genres', 'keywords', 'cast', 'crew']]"
   ]
  },
  {
   "cell_type": "code",
   "execution_count": 6,
   "metadata": {},
   "outputs": [],
   "source": [
    "# Function to convert genres, keywords, cast, and crew from string to list\n",
    "# Function to convert genres, keywords, cast, and crew from string to list\n",
    "def convert_to_list(obj):\n",
    "    try:\n",
    "        # Convert the string representation of list to actual list\n",
    "        items = ast.literal_eval(obj)\n",
    "        return [item['name'] for item in items]\n",
    "    except:\n",
    "        # Return an empty list if there's an error during parsing\n",
    "        return []\n"
   ]
  },
  {
   "cell_type": "code",
   "execution_count": 7,
   "metadata": {},
   "outputs": [],
   "source": [
    "# Apply conversion function to genres and keywords\n",
    "movies['genres'] = movies['genres'].apply(convert_to_list)\n",
    "movies['keywords'] = movies['keywords'].apply(convert_to_list)"
   ]
  },
  {
   "cell_type": "code",
   "execution_count": 8,
   "metadata": {},
   "outputs": [],
   "source": [
    "# Function to fetch director's name from crew\n",
    "def fetch_director(obj):\n",
    "    try:\n",
    "        # Parse the string representation of crew list\n",
    "        crew_list = ast.literal_eval(obj)\n",
    "        for crew_member in crew_list:\n",
    "            if crew_member['job'] == 'Director':\n",
    "                return [crew_member['name']]\n",
    "    except:\n",
    "        pass\n",
    "    return []"
   ]
  },
  {
   "cell_type": "code",
   "execution_count": 9,
   "metadata": {},
   "outputs": [],
   "source": [
    "# Apply fetch_director function to crew\n",
    "movies['crew'] = movies['crew'].apply(fetch_director)"
   ]
  },
  {
   "cell_type": "code",
   "execution_count": 10,
   "metadata": {},
   "outputs": [],
   "source": [
    "# Function to get the first three cast members' names\n",
    "def get_top_cast(obj):\n",
    "    try:\n",
    "        # Parse the string representation of cast list\n",
    "        cast_list = ast.literal_eval(obj)\n",
    "        return [cast_member['name'] for cast_member in cast_list[:3]]\n",
    "    except:\n",
    "        pass\n",
    "    return []"
   ]
  },
  {
   "cell_type": "code",
   "execution_count": 11,
   "metadata": {},
   "outputs": [],
   "source": [
    "# Apply get_top_cast function to cast\n",
    "movies['cast'] = movies['cast'].apply(get_top_cast)\n"
   ]
  },
  {
   "cell_type": "code",
   "execution_count": 12,
   "metadata": {},
   "outputs": [],
   "source": [
    "# Convert overview to list of words\n",
    "def convert_overview(overview):\n",
    "    if isinstance(overview, str):\n",
    "        return overview.split()\n",
    "    else:\n",
    "        return []\n",
    "\n",
    "movies['overview'] = movies['overview'].apply(convert_overview)"
   ]
  },
  {
   "cell_type": "code",
   "execution_count": 13,
   "metadata": {},
   "outputs": [],
   "source": [
    "# Combine overview, genres, keywords, cast, and crew into a single tags list\n",
    "def combine_tags(row):\n",
    "    tags = row['overview'] + row['genres'] + row['keywords'] + row['cast'] + row['crew']\n",
    "    return ' '.join(tags)\n",
    "\n",
    "movies['tags'] = movies.apply(combine_tags, axis=1)\n"
   ]
  },
  {
   "cell_type": "code",
   "execution_count": 14,
   "metadata": {},
   "outputs": [],
   "source": [
    "# Initialize PorterStemmer for stemming words\n",
    "ps = PorterStemmer()"
   ]
  },
  {
   "cell_type": "code",
   "execution_count": 15,
   "metadata": {},
   "outputs": [],
   "source": [
    "# Function to stem text\n",
    "def stem(text):\n",
    "    return ' '.join([ps.stem(word) for word in text.split()])"
   ]
  },
  {
   "cell_type": "code",
   "execution_count": 16,
   "metadata": {},
   "outputs": [],
   "source": [
    "# Apply stemming to tags\n",
    "movies['tags'] = movies['tags'].apply(stem)"
   ]
  },
  {
   "cell_type": "code",
   "execution_count": 17,
   "metadata": {},
   "outputs": [],
   "source": [
    "# Initialize CountVectorizer with maximum features and English stop words\n",
    "cv = CountVectorizer(max_features=10000, stop_words='english')"
   ]
  },
  {
   "cell_type": "code",
   "execution_count": 18,
   "metadata": {},
   "outputs": [],
   "source": [
    "# Generate count vectors for tags\n",
    "vectors = cv.fit_transform(movies['tags'])"
   ]
  },
  {
   "cell_type": "code",
   "execution_count": 19,
   "metadata": {},
   "outputs": [
    {
     "name": "stdout",
     "output_type": "stream",
     "text": [
      "similarity [[1.         0.06349206 0.06104914 ... 0.04012862 0.02917921 0.        ]\n",
      " [0.06349206 1.         0.03924588 ... 0.03439596 0.         0.01597191]\n",
      " [0.06104914 0.03924588 1.         ... 0.01653627 0.0721453  0.        ]\n",
      " ...\n",
      " [0.04012862 0.03439596 0.01653627 ... 1.         0.03161487 0.0269191 ]\n",
      " [0.02917921 0.         0.0721453  ... 0.03161487 1.         0.05872202]\n",
      " [0.         0.01597191 0.         ... 0.0269191  0.05872202 1.        ]]\n"
     ]
    }
   ],
   "source": [
    "# Compute cosine similarity matrix\n",
    "similarity = cosine_similarity(vectors)\n",
    "print(\"similarity\",similarity)\n"
   ]
  },
  {
   "cell_type": "code",
   "execution_count": 20,
   "metadata": {},
   "outputs": [],
   "source": [
    "# Recommendation function\n",
    "def recommend(movie):\n",
    "    try:\n",
    "        movie_index = movies[movies['title'] == movie].index[0]\n",
    "        distances = similarity[movie_index]\n",
    "        movie_list = sorted(list(enumerate(distances)), reverse=True, key=lambda x: x[1])[1:6]\n",
    "        for i in movie_list:\n",
    "            print(movies.iloc[i[0]].title)\n",
    "    except IndexError:\n",
    "        print(\"Movie not found. Please ensure the title is spelled correctly.\")\n",
    "\n",
    "with gzip.open('movies_compressed.pkl.gz', 'wb') as f:\n",
    "    pickle.dump(movies, f)\n",
    "\n",
    "with gzip.open('movies_dict_compressed.pkl.gz', 'wb') as f:\n",
    "    pickle.dump(movies.to_dict(), f)\n",
    "\n",
    "with gzip.open('similarity_compressed.pkl.gz', 'wb') as f:\n",
    "    pickle.dump(similarity, f)"
   ]
  },
  {
   "cell_type": "code",
   "execution_count": null,
   "metadata": {},
   "outputs": [],
   "source": []
  },
  {
   "cell_type": "code",
   "execution_count": null,
   "metadata": {},
   "outputs": [],
   "source": []
  },
  {
   "cell_type": "code",
   "execution_count": null,
   "metadata": {},
   "outputs": [],
   "source": []
  },
  {
   "cell_type": "code",
   "execution_count": null,
   "metadata": {},
   "outputs": [],
   "source": []
  },
  {
   "cell_type": "code",
   "execution_count": null,
   "metadata": {},
   "outputs": [],
   "source": []
  }
 ],
 "metadata": {
  "kernelspec": {
   "display_name": "base",
   "language": "python",
   "name": "python3"
  },
  "language_info": {
   "codemirror_mode": {
    "name": "ipython",
    "version": 3
   },
   "file_extension": ".py",
   "mimetype": "text/x-python",
   "name": "python",
   "nbconvert_exporter": "python",
   "pygments_lexer": "ipython3",
   "version": "3.11.5"
  }
 },
 "nbformat": 4,
 "nbformat_minor": 2
}
